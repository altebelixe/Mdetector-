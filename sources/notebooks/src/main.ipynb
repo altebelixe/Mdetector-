{
 "cells": [
  {
   "metadata": {},
   "cell_type": "markdown",
   "source": "# 1. Importation des librairies",
   "id": "5fa041aeea2dda9e"
  },
  {
   "cell_type": "code",
   "id": "initial_id",
   "metadata": {
    "collapsed": true,
    "ExecuteTime": {
     "end_time": "2024-06-24T08:19:40.575519Z",
     "start_time": "2024-06-24T08:19:40.573582Z"
    }
   },
   "source": [
    "import pandas as pd\n",
    "import re     as re\n",
    "import os     as os  \n",
    "import uuid   as uuid\n",
    "import nltk   as nltk"
   ],
   "outputs": [],
   "execution_count": 20
  },
  {
   "metadata": {
    "ExecuteTime": {
     "end_time": "2024-06-24T08:19:40.685242Z",
     "start_time": "2024-06-24T08:19:40.683111Z"
    }
   },
   "cell_type": "code",
   "source": [
    "from xgboost                         import XGBClassifier\n",
    "from sklearn.cluster                 import MiniBatchKMeans\n",
    "from sklearn.pipeline                import Pipeline\n",
    "from sklearn.feature_extraction.text import TfidfVectorizer\n",
    "from sklearn.preprocessing           import LabelEncoder, OrdinalEncoder\n",
    "from sklearn.compose                 import ColumnTransformer\n",
    "from sklearn.model_selection         import cross_val_score\n",
    "from sklearn.metrics                 import accuracy_score, classification_report, confusion_matrix\n",
    "from nltk.corpus                     import stopwords\n",
    "from joblib                          import dump"
   ],
   "id": "ad0652bed45d1dcb",
   "outputs": [],
   "execution_count": 21
  },
  {
   "metadata": {},
   "cell_type": "markdown",
   "source": "# 2. Chargement des données",
   "id": "112b0adcbb2f07eb"
  },
  {
   "metadata": {
    "ExecuteTime": {
     "end_time": "2024-06-24T08:19:43.582018Z",
     "start_time": "2024-06-24T08:19:40.693181Z"
    }
   },
   "cell_type": "code",
   "source": [
    "# Chargement des données d'entraînement\n",
    "train = pd.read_parquet('../../../data/parquet/train.parquet')"
   ],
   "id": "d471b3dfb6fd6341",
   "outputs": [],
   "execution_count": 22
  },
  {
   "metadata": {
    "ExecuteTime": {
     "end_time": "2024-06-24T08:19:44.427189Z",
     "start_time": "2024-06-24T08:19:43.583063Z"
    }
   },
   "cell_type": "code",
   "source": [
    "# Chargement des données de test\n",
    "test = pd.read_parquet('../../../data/parquet/test.parquet')"
   ],
   "id": "8b4797b3e5141328",
   "outputs": [],
   "execution_count": 23
  },
  {
   "metadata": {
    "ExecuteTime": {
     "end_time": "2024-06-24T08:19:44.432494Z",
     "start_time": "2024-06-24T08:19:44.427819Z"
    }
   },
   "cell_type": "code",
   "source": [
    "# Affichage des données d'entraînement\n",
    "train.head()"
   ],
   "id": "3cfff824e273f94",
   "outputs": [
    {
     "data": {
      "text/plain": [
       "   Unnamed: 0                                       url  url_len  \\\n",
       "0           0  http://members.tripod.com/russiastation/       40   \n",
       "1           1          http://www.ddj.com/cpp/184403822       32   \n",
       "2           2                  http://www.naef-usa.com/       24   \n",
       "3           3                     http://www.ff-b2b.de/       21   \n",
       "4           4       http://us.imdb.com/title/tt0176269/       35   \n",
       "\n",
       "          ip_add        geo_loc  tld      who_is https  js_len  js_obf_len  \\\n",
       "0  42.77.221.155         Taiwan  com    complete   yes    58.0         0.0   \n",
       "1  3.211.202.180  United States  com    complete   yes    52.5         0.0   \n",
       "2   24.232.54.41      Argentina  com    complete   yes   103.5         0.0   \n",
       "3   147.22.38.45  United States   de  incomplete    no   720.0       532.8   \n",
       "4  205.30.239.85  United States  com    complete   yes    46.5         0.0   \n",
       "\n",
       "                                             content label  \n",
       "0  Named themselves charged particles in a manly ...  good  \n",
       "1  And filipino field \\n \\n \\n \\n \\n \\n \\n \\n the...  good  \n",
       "2  Took in cognitivism, whose adherents argue for...  good  \n",
       "3  fire cumshot sodomize footaction tortur failed...   bad  \n",
       "4  Levant, also monsignor georges. In 1800, lists...  good  "
      ],
      "text/html": [
       "<div>\n",
       "<style scoped>\n",
       "    .dataframe tbody tr th:only-of-type {\n",
       "        vertical-align: middle;\n",
       "    }\n",
       "\n",
       "    .dataframe tbody tr th {\n",
       "        vertical-align: top;\n",
       "    }\n",
       "\n",
       "    .dataframe thead th {\n",
       "        text-align: right;\n",
       "    }\n",
       "</style>\n",
       "<table border=\"1\" class=\"dataframe\">\n",
       "  <thead>\n",
       "    <tr style=\"text-align: right;\">\n",
       "      <th></th>\n",
       "      <th>Unnamed: 0</th>\n",
       "      <th>url</th>\n",
       "      <th>url_len</th>\n",
       "      <th>ip_add</th>\n",
       "      <th>geo_loc</th>\n",
       "      <th>tld</th>\n",
       "      <th>who_is</th>\n",
       "      <th>https</th>\n",
       "      <th>js_len</th>\n",
       "      <th>js_obf_len</th>\n",
       "      <th>content</th>\n",
       "      <th>label</th>\n",
       "    </tr>\n",
       "  </thead>\n",
       "  <tbody>\n",
       "    <tr>\n",
       "      <th>0</th>\n",
       "      <td>0</td>\n",
       "      <td>http://members.tripod.com/russiastation/</td>\n",
       "      <td>40</td>\n",
       "      <td>42.77.221.155</td>\n",
       "      <td>Taiwan</td>\n",
       "      <td>com</td>\n",
       "      <td>complete</td>\n",
       "      <td>yes</td>\n",
       "      <td>58.0</td>\n",
       "      <td>0.0</td>\n",
       "      <td>Named themselves charged particles in a manly ...</td>\n",
       "      <td>good</td>\n",
       "    </tr>\n",
       "    <tr>\n",
       "      <th>1</th>\n",
       "      <td>1</td>\n",
       "      <td>http://www.ddj.com/cpp/184403822</td>\n",
       "      <td>32</td>\n",
       "      <td>3.211.202.180</td>\n",
       "      <td>United States</td>\n",
       "      <td>com</td>\n",
       "      <td>complete</td>\n",
       "      <td>yes</td>\n",
       "      <td>52.5</td>\n",
       "      <td>0.0</td>\n",
       "      <td>And filipino field \\n \\n \\n \\n \\n \\n \\n \\n the...</td>\n",
       "      <td>good</td>\n",
       "    </tr>\n",
       "    <tr>\n",
       "      <th>2</th>\n",
       "      <td>2</td>\n",
       "      <td>http://www.naef-usa.com/</td>\n",
       "      <td>24</td>\n",
       "      <td>24.232.54.41</td>\n",
       "      <td>Argentina</td>\n",
       "      <td>com</td>\n",
       "      <td>complete</td>\n",
       "      <td>yes</td>\n",
       "      <td>103.5</td>\n",
       "      <td>0.0</td>\n",
       "      <td>Took in cognitivism, whose adherents argue for...</td>\n",
       "      <td>good</td>\n",
       "    </tr>\n",
       "    <tr>\n",
       "      <th>3</th>\n",
       "      <td>3</td>\n",
       "      <td>http://www.ff-b2b.de/</td>\n",
       "      <td>21</td>\n",
       "      <td>147.22.38.45</td>\n",
       "      <td>United States</td>\n",
       "      <td>de</td>\n",
       "      <td>incomplete</td>\n",
       "      <td>no</td>\n",
       "      <td>720.0</td>\n",
       "      <td>532.8</td>\n",
       "      <td>fire cumshot sodomize footaction tortur failed...</td>\n",
       "      <td>bad</td>\n",
       "    </tr>\n",
       "    <tr>\n",
       "      <th>4</th>\n",
       "      <td>4</td>\n",
       "      <td>http://us.imdb.com/title/tt0176269/</td>\n",
       "      <td>35</td>\n",
       "      <td>205.30.239.85</td>\n",
       "      <td>United States</td>\n",
       "      <td>com</td>\n",
       "      <td>complete</td>\n",
       "      <td>yes</td>\n",
       "      <td>46.5</td>\n",
       "      <td>0.0</td>\n",
       "      <td>Levant, also monsignor georges. In 1800, lists...</td>\n",
       "      <td>good</td>\n",
       "    </tr>\n",
       "  </tbody>\n",
       "</table>\n",
       "</div>"
      ]
     },
     "execution_count": 24,
     "metadata": {},
     "output_type": "execute_result"
    }
   ],
   "execution_count": 24
  },
  {
   "metadata": {
    "ExecuteTime": {
     "end_time": "2024-06-24T08:19:44.438830Z",
     "start_time": "2024-06-24T08:19:44.433925Z"
    }
   },
   "cell_type": "code",
   "source": [
    "# Affichage des données de test\n",
    "test.head()"
   ],
   "id": "804c8a228e83aad6",
   "outputs": [
    {
     "data": {
      "text/plain": [
       "   Unnamed: 0                                                url  url_len  \\\n",
       "0           0               http://www.dutchthewiz.com/freeware/       36   \n",
       "1           1                   http://www.collectiblejewels.com       32   \n",
       "2           2                        http://www.deadlinedata.com       27   \n",
       "3           3  http://www.mil.fi/maavoimat/kalustoesittely/00...       56   \n",
       "4           4           http://www.avclub.com/content/node/24539       40   \n",
       "\n",
       "            ip_add    geo_loc  tld      who_is https  js_len  js_obf_len  \\\n",
       "0    175.67.214.68      China  com    complete   yes    38.5         0.0   \n",
       "1  188.120.171.121     Sweden  com  incomplete   yes   187.0         0.0   \n",
       "2     193.51.170.1     France  com    complete   yes    31.0         0.0   \n",
       "3     13.237.35.44  Australia   fi    complete   yes   152.0         0.0   \n",
       "4    220.193.62.89      China  com    complete   yes   150.0         0.0   \n",
       "\n",
       "                                             content label  \n",
       "0  Decay suggest in 1315.. Current constitution, ...  good  \n",
       "1  breast addict nudger whash ky darkie catholics...  good  \n",
       "2  Nato's military stoic philosophy says to accep...  good  \n",
       "3  Night being newton. according to the formation...  good  \n",
       "4  34 per two children. if we exercise simple pra...  good  "
      ],
      "text/html": [
       "<div>\n",
       "<style scoped>\n",
       "    .dataframe tbody tr th:only-of-type {\n",
       "        vertical-align: middle;\n",
       "    }\n",
       "\n",
       "    .dataframe tbody tr th {\n",
       "        vertical-align: top;\n",
       "    }\n",
       "\n",
       "    .dataframe thead th {\n",
       "        text-align: right;\n",
       "    }\n",
       "</style>\n",
       "<table border=\"1\" class=\"dataframe\">\n",
       "  <thead>\n",
       "    <tr style=\"text-align: right;\">\n",
       "      <th></th>\n",
       "      <th>Unnamed: 0</th>\n",
       "      <th>url</th>\n",
       "      <th>url_len</th>\n",
       "      <th>ip_add</th>\n",
       "      <th>geo_loc</th>\n",
       "      <th>tld</th>\n",
       "      <th>who_is</th>\n",
       "      <th>https</th>\n",
       "      <th>js_len</th>\n",
       "      <th>js_obf_len</th>\n",
       "      <th>content</th>\n",
       "      <th>label</th>\n",
       "    </tr>\n",
       "  </thead>\n",
       "  <tbody>\n",
       "    <tr>\n",
       "      <th>0</th>\n",
       "      <td>0</td>\n",
       "      <td>http://www.dutchthewiz.com/freeware/</td>\n",
       "      <td>36</td>\n",
       "      <td>175.67.214.68</td>\n",
       "      <td>China</td>\n",
       "      <td>com</td>\n",
       "      <td>complete</td>\n",
       "      <td>yes</td>\n",
       "      <td>38.5</td>\n",
       "      <td>0.0</td>\n",
       "      <td>Decay suggest in 1315.. Current constitution, ...</td>\n",
       "      <td>good</td>\n",
       "    </tr>\n",
       "    <tr>\n",
       "      <th>1</th>\n",
       "      <td>1</td>\n",
       "      <td>http://www.collectiblejewels.com</td>\n",
       "      <td>32</td>\n",
       "      <td>188.120.171.121</td>\n",
       "      <td>Sweden</td>\n",
       "      <td>com</td>\n",
       "      <td>incomplete</td>\n",
       "      <td>yes</td>\n",
       "      <td>187.0</td>\n",
       "      <td>0.0</td>\n",
       "      <td>breast addict nudger whash ky darkie catholics...</td>\n",
       "      <td>good</td>\n",
       "    </tr>\n",
       "    <tr>\n",
       "      <th>2</th>\n",
       "      <td>2</td>\n",
       "      <td>http://www.deadlinedata.com</td>\n",
       "      <td>27</td>\n",
       "      <td>193.51.170.1</td>\n",
       "      <td>France</td>\n",
       "      <td>com</td>\n",
       "      <td>complete</td>\n",
       "      <td>yes</td>\n",
       "      <td>31.0</td>\n",
       "      <td>0.0</td>\n",
       "      <td>Nato's military stoic philosophy says to accep...</td>\n",
       "      <td>good</td>\n",
       "    </tr>\n",
       "    <tr>\n",
       "      <th>3</th>\n",
       "      <td>3</td>\n",
       "      <td>http://www.mil.fi/maavoimat/kalustoesittely/00...</td>\n",
       "      <td>56</td>\n",
       "      <td>13.237.35.44</td>\n",
       "      <td>Australia</td>\n",
       "      <td>fi</td>\n",
       "      <td>complete</td>\n",
       "      <td>yes</td>\n",
       "      <td>152.0</td>\n",
       "      <td>0.0</td>\n",
       "      <td>Night being newton. according to the formation...</td>\n",
       "      <td>good</td>\n",
       "    </tr>\n",
       "    <tr>\n",
       "      <th>4</th>\n",
       "      <td>4</td>\n",
       "      <td>http://www.avclub.com/content/node/24539</td>\n",
       "      <td>40</td>\n",
       "      <td>220.193.62.89</td>\n",
       "      <td>China</td>\n",
       "      <td>com</td>\n",
       "      <td>complete</td>\n",
       "      <td>yes</td>\n",
       "      <td>150.0</td>\n",
       "      <td>0.0</td>\n",
       "      <td>34 per two children. if we exercise simple pra...</td>\n",
       "      <td>good</td>\n",
       "    </tr>\n",
       "  </tbody>\n",
       "</table>\n",
       "</div>"
      ]
     },
     "execution_count": 25,
     "metadata": {},
     "output_type": "execute_result"
    }
   ],
   "execution_count": 25
  },
  {
   "metadata": {},
   "cell_type": "markdown",
   "source": "# 3. Prétraitement des données",
   "id": "afdbe181578b76f6"
  },
  {
   "metadata": {
    "ExecuteTime": {
     "end_time": "2024-06-24T08:19:44.511492Z",
     "start_time": "2024-06-24T08:19:44.439746Z"
    }
   },
   "cell_type": "code",
   "source": [
    "# Suppression des colonnes 'Unnamed: 0' et 'ip_add' et 'js_obf_len'\n",
    "train.drop(columns=['Unnamed: 0', 'ip_add', 'js_obf_len'], inplace=True)"
   ],
   "id": "17d182d719e4fb97",
   "outputs": [],
   "execution_count": 26
  },
  {
   "metadata": {
    "ExecuteTime": {
     "end_time": "2024-06-24T08:19:44.529121Z",
     "start_time": "2024-06-24T08:19:44.512374Z"
    }
   },
   "cell_type": "code",
   "source": [
    "# Suppression des colonnes 'Unnamed: 0' et 'ip_add' et 'js_obf_len'\n",
    "test.drop(columns=['Unnamed: 0', 'ip_add', 'js_obf_len'], inplace=True)"
   ],
   "id": "cda14ed7cd16e493",
   "outputs": [],
   "execution_count": 27
  },
  {
   "metadata": {
    "ExecuteTime": {
     "end_time": "2024-06-24T08:19:52.809814Z",
     "start_time": "2024-06-24T08:19:44.529999Z"
    }
   },
   "cell_type": "code",
   "source": [
    "# On ne garde que 50 mots par 'content'\n",
    "train['content'] = train['content'].apply(lambda x: ' '.join(x.split()[:50]))"
   ],
   "id": "ef5f9654c5172545",
   "outputs": [],
   "execution_count": 28
  },
  {
   "metadata": {
    "ExecuteTime": {
     "end_time": "2024-06-24T08:19:55.290885Z",
     "start_time": "2024-06-24T08:19:52.810541Z"
    }
   },
   "cell_type": "code",
   "source": [
    "# On ne garde que 50 mots par 'content'\n",
    "test['content'] = test['content'].apply(lambda x: ' '.join(x.split()[:50]))"
   ],
   "id": "7398d767ad22bf73",
   "outputs": [],
   "execution_count": 29
  },
  {
   "metadata": {
    "ExecuteTime": {
     "end_time": "2024-06-24T08:19:55.625808Z",
     "start_time": "2024-06-24T08:19:55.291508Z"
    }
   },
   "cell_type": "code",
   "source": [
    "# Suppression des valeurs manquantes\n",
    "train.dropna(inplace=True)"
   ],
   "id": "78056caad11e4a5a",
   "outputs": [],
   "execution_count": 30
  },
  {
   "metadata": {
    "ExecuteTime": {
     "end_time": "2024-06-24T08:19:55.738712Z",
     "start_time": "2024-06-24T08:19:55.628164Z"
    }
   },
   "cell_type": "code",
   "source": [
    "# Suppression des valeurs manquantes\n",
    "test.dropna(inplace=True)"
   ],
   "id": "d79bc8bf13b3da0e",
   "outputs": [],
   "execution_count": 31
  },
  {
   "metadata": {
    "ExecuteTime": {
     "end_time": "2024-06-24T08:19:57.387312Z",
     "start_time": "2024-06-24T08:19:55.739581Z"
    }
   },
   "cell_type": "code",
   "source": [
    "# Suppression des doublons\n",
    "train.drop_duplicates(inplace=True)"
   ],
   "id": "b8e94feff53b2de3",
   "outputs": [],
   "execution_count": 32
  },
  {
   "metadata": {
    "ExecuteTime": {
     "end_time": "2024-06-24T08:19:57.887335Z",
     "start_time": "2024-06-24T08:19:57.388296Z"
    }
   },
   "cell_type": "code",
   "source": [
    "# Suppression des doublons\n",
    "test.drop_duplicates(inplace=True)"
   ],
   "id": "f219c74a2c14a56",
   "outputs": [],
   "execution_count": 33
  },
  {
   "metadata": {
    "ExecuteTime": {
     "end_time": "2024-06-24T08:19:57.890944Z",
     "start_time": "2024-06-24T08:19:57.888166Z"
    }
   },
   "cell_type": "code",
   "source": "train.shape, test.shape",
   "id": "69cf3073b03e65c8",
   "outputs": [
    {
     "data": {
      "text/plain": [
       "((1200000, 9), (361934, 9))"
      ]
     },
     "execution_count": 34,
     "metadata": {},
     "output_type": "execute_result"
    }
   ],
   "execution_count": 34
  },
  {
   "metadata": {},
   "cell_type": "markdown",
   "source": "# 4. Nettoyage des données",
   "id": "53e55a7cd14a375e"
  },
  {
   "metadata": {
    "ExecuteTime": {
     "end_time": "2024-06-24T08:19:58.048206Z",
     "start_time": "2024-06-24T08:19:57.891679Z"
    }
   },
   "cell_type": "code",
   "source": [
    "# Téléchargement des mots vides\n",
    "nltk.download('stopwords')"
   ],
   "id": "749541e88983b873",
   "outputs": [
    {
     "name": "stderr",
     "output_type": "stream",
     "text": [
      "[nltk_data] Downloading package stopwords to\n",
      "[nltk_data]     /Users/hugueslopezpardo/nltk_data...\n",
      "[nltk_data]   Unzipping corpora/stopwords.zip.\n"
     ]
    },
    {
     "data": {
      "text/plain": [
       "True"
      ]
     },
     "execution_count": 35,
     "metadata": {},
     "output_type": "execute_result"
    }
   ],
   "execution_count": 35
  },
  {
   "metadata": {
    "ExecuteTime": {
     "end_time": "2024-06-24T08:19:58.051209Z",
     "start_time": "2024-06-24T08:19:58.049083Z"
    }
   },
   "cell_type": "code",
   "source": [
    "# Liste des mots vides \n",
    "stop = set(stopwords.words('english'))"
   ],
   "id": "1fca8bec0a770133",
   "outputs": [],
   "execution_count": 36
  },
  {
   "metadata": {
    "ExecuteTime": {
     "end_time": "2024-06-24T08:19:58.053637Z",
     "start_time": "2024-06-24T08:19:58.051778Z"
    }
   },
   "cell_type": "code",
   "source": [
    "def clean_text(text):\n",
    "    \"\"\"\n",
    "    Nettoyage du texte.\n",
    "    :param text: Texte à nettoyer.\n",
    "    :return: Texte nettoyé.\n",
    "    \"\"\"\n",
    "    cleaned_text = re.sub(r'[^\\w\\s]', '', text).lower()\n",
    "    return ' '.join([item for item in cleaned_text.split() if item not in stop])"
   ],
   "id": "ef6a1e6218991586",
   "outputs": [],
   "execution_count": 37
  },
  {
   "metadata": {
    "ExecuteTime": {
     "end_time": "2024-06-24T08:19:58.055979Z",
     "start_time": "2024-06-24T08:19:58.054159Z"
    }
   },
   "cell_type": "code",
   "source": [
    "def clean_url(url):\n",
    "    \"\"\"\n",
    "    Nettoyage de l'URL.\n",
    "    :param url: URL à nettoyer.\n",
    "    :return: URL nettoyée.\n",
    "    \"\"\"\n",
    "    # On retire https://www\n",
    "    url = url.replace('https://www.', '')\n",
    "    url = url.replace('http://www.', '')\n",
    "    return ' '.join(re.sub(r'^(?:http|ftp)s?://|www\\.|\\.|/', ' ', url).strip().split())"
   ],
   "id": "8728ecedadc5c89b",
   "outputs": [],
   "execution_count": 38
  },
  {
   "metadata": {
    "ExecuteTime": {
     "end_time": "2024-06-24T08:19:58.058179Z",
     "start_time": "2024-06-24T08:19:58.056635Z"
    }
   },
   "cell_type": "code",
   "source": [
    "def label_encoder(label):\n",
    "    \"\"\"\n",
    "    Encodage des labels.\n",
    "    :param label: Label à encoder.\n",
    "    :return: Label encodé.\n",
    "    \"\"\"\n",
    "    return 1 if label == 'bad' else 0"
   ],
   "id": "19ccde0464d1d138",
   "outputs": [],
   "execution_count": 39
  },
  {
   "metadata": {
    "ExecuteTime": {
     "end_time": "2024-06-24T08:19:59.843240Z",
     "start_time": "2024-06-24T08:19:58.058709Z"
    }
   },
   "cell_type": "code",
   "source": [
    "# Nettoyage des données d'entraînement [url]\n",
    "train['url'] = train['url'].apply(clean_url)"
   ],
   "id": "6aec2b1e463c7f7f",
   "outputs": [],
   "execution_count": 40
  },
  {
   "metadata": {
    "ExecuteTime": {
     "end_time": "2024-06-24T08:20:00.360476Z",
     "start_time": "2024-06-24T08:19:59.844132Z"
    }
   },
   "cell_type": "code",
   "source": [
    "# Nettoyage des données de test [url]\n",
    "test['url'] = test['url'].apply(clean_url)"
   ],
   "id": "f1e8666b5b4d1dc4",
   "outputs": [],
   "execution_count": 41
  },
  {
   "metadata": {
    "ExecuteTime": {
     "end_time": "2024-06-24T08:20:11.310800Z",
     "start_time": "2024-06-24T08:20:00.361326Z"
    }
   },
   "cell_type": "code",
   "source": [
    "# Nettoyage des données d'entraînement [content]\n",
    "train['content'] = train['content'].apply(clean_text)"
   ],
   "id": "a4cf2c7970c9ba1c",
   "outputs": [],
   "execution_count": 42
  },
  {
   "metadata": {
    "ExecuteTime": {
     "end_time": "2024-06-24T08:20:14.650916Z",
     "start_time": "2024-06-24T08:20:11.311666Z"
    }
   },
   "cell_type": "code",
   "source": [
    "# Nettoyage des données de test [content]\n",
    "test['content'] = test['content'].apply(clean_text)"
   ],
   "id": "83a1c8f393f7cb1",
   "outputs": [],
   "execution_count": 43
  },
  {
   "metadata": {
    "ExecuteTime": {
     "end_time": "2024-06-24T08:20:14.811569Z",
     "start_time": "2024-06-24T08:20:14.651772Z"
    }
   },
   "cell_type": "code",
   "source": [
    "# Encodage des labels\n",
    "train['label'] = train['label'].apply(label_encoder)"
   ],
   "id": "aada67e159650f92",
   "outputs": [],
   "execution_count": 44
  },
  {
   "metadata": {
    "ExecuteTime": {
     "end_time": "2024-06-24T08:20:14.862238Z",
     "start_time": "2024-06-24T08:20:14.812385Z"
    }
   },
   "cell_type": "code",
   "source": [
    "# Encodage des labels\n",
    "test['label'] = test['label'].apply(label_encoder)"
   ],
   "id": "45dd23b8381d945",
   "outputs": [],
   "execution_count": 45
  },
  {
   "metadata": {
    "ExecuteTime": {
     "end_time": "2024-06-24T08:20:14.867126Z",
     "start_time": "2024-06-24T08:20:14.862874Z"
    }
   },
   "cell_type": "code",
   "source": "train.head()",
   "id": "a891416181e63892",
   "outputs": [
    {
     "data": {
      "text/plain": [
       "                                url  url_len        geo_loc  tld      who_is  \\\n",
       "0  members tripod com russiastation       40         Taiwan  com    complete   \n",
       "1             ddj com cpp 184403822       32  United States  com    complete   \n",
       "2                      naef-usa com       24      Argentina  com    complete   \n",
       "3                         ff-b2b de       21  United States   de  incomplete   \n",
       "4       us imdb com title tt0176269       35  United States  com    complete   \n",
       "\n",
       "  https  js_len                                            content  label  \n",
       "0   yes    58.0  named charged particles manly aspect francis g...      0  \n",
       "1   yes    52.5  filipino field betatron criticized defense pro...      0  \n",
       "2   yes   103.5  took cognitivism whose adherents argue overall...      0  \n",
       "3    no   720.0  fire cumshot sodomize footaction tortur failed...      1  \n",
       "4   yes    46.5  levant also monsignor georges 1800 lists respe...      0  "
      ],
      "text/html": [
       "<div>\n",
       "<style scoped>\n",
       "    .dataframe tbody tr th:only-of-type {\n",
       "        vertical-align: middle;\n",
       "    }\n",
       "\n",
       "    .dataframe tbody tr th {\n",
       "        vertical-align: top;\n",
       "    }\n",
       "\n",
       "    .dataframe thead th {\n",
       "        text-align: right;\n",
       "    }\n",
       "</style>\n",
       "<table border=\"1\" class=\"dataframe\">\n",
       "  <thead>\n",
       "    <tr style=\"text-align: right;\">\n",
       "      <th></th>\n",
       "      <th>url</th>\n",
       "      <th>url_len</th>\n",
       "      <th>geo_loc</th>\n",
       "      <th>tld</th>\n",
       "      <th>who_is</th>\n",
       "      <th>https</th>\n",
       "      <th>js_len</th>\n",
       "      <th>content</th>\n",
       "      <th>label</th>\n",
       "    </tr>\n",
       "  </thead>\n",
       "  <tbody>\n",
       "    <tr>\n",
       "      <th>0</th>\n",
       "      <td>members tripod com russiastation</td>\n",
       "      <td>40</td>\n",
       "      <td>Taiwan</td>\n",
       "      <td>com</td>\n",
       "      <td>complete</td>\n",
       "      <td>yes</td>\n",
       "      <td>58.0</td>\n",
       "      <td>named charged particles manly aspect francis g...</td>\n",
       "      <td>0</td>\n",
       "    </tr>\n",
       "    <tr>\n",
       "      <th>1</th>\n",
       "      <td>ddj com cpp 184403822</td>\n",
       "      <td>32</td>\n",
       "      <td>United States</td>\n",
       "      <td>com</td>\n",
       "      <td>complete</td>\n",
       "      <td>yes</td>\n",
       "      <td>52.5</td>\n",
       "      <td>filipino field betatron criticized defense pro...</td>\n",
       "      <td>0</td>\n",
       "    </tr>\n",
       "    <tr>\n",
       "      <th>2</th>\n",
       "      <td>naef-usa com</td>\n",
       "      <td>24</td>\n",
       "      <td>Argentina</td>\n",
       "      <td>com</td>\n",
       "      <td>complete</td>\n",
       "      <td>yes</td>\n",
       "      <td>103.5</td>\n",
       "      <td>took cognitivism whose adherents argue overall...</td>\n",
       "      <td>0</td>\n",
       "    </tr>\n",
       "    <tr>\n",
       "      <th>3</th>\n",
       "      <td>ff-b2b de</td>\n",
       "      <td>21</td>\n",
       "      <td>United States</td>\n",
       "      <td>de</td>\n",
       "      <td>incomplete</td>\n",
       "      <td>no</td>\n",
       "      <td>720.0</td>\n",
       "      <td>fire cumshot sodomize footaction tortur failed...</td>\n",
       "      <td>1</td>\n",
       "    </tr>\n",
       "    <tr>\n",
       "      <th>4</th>\n",
       "      <td>us imdb com title tt0176269</td>\n",
       "      <td>35</td>\n",
       "      <td>United States</td>\n",
       "      <td>com</td>\n",
       "      <td>complete</td>\n",
       "      <td>yes</td>\n",
       "      <td>46.5</td>\n",
       "      <td>levant also monsignor georges 1800 lists respe...</td>\n",
       "      <td>0</td>\n",
       "    </tr>\n",
       "  </tbody>\n",
       "</table>\n",
       "</div>"
      ]
     },
     "execution_count": 46,
     "metadata": {},
     "output_type": "execute_result"
    }
   ],
   "execution_count": 46
  },
  {
   "metadata": {
    "ExecuteTime": {
     "end_time": "2024-06-24T08:20:14.871565Z",
     "start_time": "2024-06-24T08:20:14.867790Z"
    }
   },
   "cell_type": "code",
   "source": "test.head()",
   "id": "668b52668c6c77d2",
   "outputs": [
    {
     "data": {
      "text/plain": [
       "                                             url  url_len    geo_loc  tld  \\\n",
       "0                       dutchthewiz com freeware       36      China  com   \n",
       "1                          collectiblejewels com       32     Sweden  com   \n",
       "2                               deadlinedata com       27     France  com   \n",
       "3  mil fi maavoimat kalustoesittely 00116_en dsp       56  Australia   fi   \n",
       "4                  avclub com content node 24539       40      China  com   \n",
       "\n",
       "       who_is https  js_len  \\\n",
       "0    complete   yes    38.5   \n",
       "1  incomplete   yes   187.0   \n",
       "2    complete   yes    31.0   \n",
       "3    complete   yes   152.0   \n",
       "4    complete   yes   150.0   \n",
       "\n",
       "                                             content  label  \n",
       "0  decay suggest 1315 current constitution cathed...      0  \n",
       "1  breast addict nudger whash ky darkie catholics...      0  \n",
       "2  natos military stoic philosophy says accept pr...      0  \n",
       "3  night newton according formation transformatio...      0  \n",
       "4  34 per two children exercise simple practices ...      0  "
      ],
      "text/html": [
       "<div>\n",
       "<style scoped>\n",
       "    .dataframe tbody tr th:only-of-type {\n",
       "        vertical-align: middle;\n",
       "    }\n",
       "\n",
       "    .dataframe tbody tr th {\n",
       "        vertical-align: top;\n",
       "    }\n",
       "\n",
       "    .dataframe thead th {\n",
       "        text-align: right;\n",
       "    }\n",
       "</style>\n",
       "<table border=\"1\" class=\"dataframe\">\n",
       "  <thead>\n",
       "    <tr style=\"text-align: right;\">\n",
       "      <th></th>\n",
       "      <th>url</th>\n",
       "      <th>url_len</th>\n",
       "      <th>geo_loc</th>\n",
       "      <th>tld</th>\n",
       "      <th>who_is</th>\n",
       "      <th>https</th>\n",
       "      <th>js_len</th>\n",
       "      <th>content</th>\n",
       "      <th>label</th>\n",
       "    </tr>\n",
       "  </thead>\n",
       "  <tbody>\n",
       "    <tr>\n",
       "      <th>0</th>\n",
       "      <td>dutchthewiz com freeware</td>\n",
       "      <td>36</td>\n",
       "      <td>China</td>\n",
       "      <td>com</td>\n",
       "      <td>complete</td>\n",
       "      <td>yes</td>\n",
       "      <td>38.5</td>\n",
       "      <td>decay suggest 1315 current constitution cathed...</td>\n",
       "      <td>0</td>\n",
       "    </tr>\n",
       "    <tr>\n",
       "      <th>1</th>\n",
       "      <td>collectiblejewels com</td>\n",
       "      <td>32</td>\n",
       "      <td>Sweden</td>\n",
       "      <td>com</td>\n",
       "      <td>incomplete</td>\n",
       "      <td>yes</td>\n",
       "      <td>187.0</td>\n",
       "      <td>breast addict nudger whash ky darkie catholics...</td>\n",
       "      <td>0</td>\n",
       "    </tr>\n",
       "    <tr>\n",
       "      <th>2</th>\n",
       "      <td>deadlinedata com</td>\n",
       "      <td>27</td>\n",
       "      <td>France</td>\n",
       "      <td>com</td>\n",
       "      <td>complete</td>\n",
       "      <td>yes</td>\n",
       "      <td>31.0</td>\n",
       "      <td>natos military stoic philosophy says accept pr...</td>\n",
       "      <td>0</td>\n",
       "    </tr>\n",
       "    <tr>\n",
       "      <th>3</th>\n",
       "      <td>mil fi maavoimat kalustoesittely 00116_en dsp</td>\n",
       "      <td>56</td>\n",
       "      <td>Australia</td>\n",
       "      <td>fi</td>\n",
       "      <td>complete</td>\n",
       "      <td>yes</td>\n",
       "      <td>152.0</td>\n",
       "      <td>night newton according formation transformatio...</td>\n",
       "      <td>0</td>\n",
       "    </tr>\n",
       "    <tr>\n",
       "      <th>4</th>\n",
       "      <td>avclub com content node 24539</td>\n",
       "      <td>40</td>\n",
       "      <td>China</td>\n",
       "      <td>com</td>\n",
       "      <td>complete</td>\n",
       "      <td>yes</td>\n",
       "      <td>150.0</td>\n",
       "      <td>34 per two children exercise simple practices ...</td>\n",
       "      <td>0</td>\n",
       "    </tr>\n",
       "  </tbody>\n",
       "</table>\n",
       "</div>"
      ]
     },
     "execution_count": 47,
     "metadata": {},
     "output_type": "execute_result"
    }
   ],
   "execution_count": 47
  },
  {
   "metadata": {},
   "cell_type": "markdown",
   "source": "# 5. Création du modèle",
   "id": "b29ced760648ede9"
  },
  {
   "metadata": {
    "ExecuteTime": {
     "end_time": "2024-06-24T08:20:14.873881Z",
     "start_time": "2024-06-24T08:20:14.872178Z"
    }
   },
   "cell_type": "code",
   "source": [
    "# Paramètres de la transformation TfidfVectorizer\n",
    "tfidf_params = {\n",
    "    'min_df': 5, 'max_df': 0.95,\n",
    "    'ngram_range': (1, 2),\n",
    "    'stop_words': 'english',\n",
    "    'max_features': 100000\n",
    "}"
   ],
   "id": "66ecbd0b85ba91d3",
   "outputs": [],
   "execution_count": 48
  },
  {
   "metadata": {
    "ExecuteTime": {
     "end_time": "2024-06-24T08:20:14.879233Z",
     "start_time": "2024-06-24T08:20:14.877416Z"
    }
   },
   "cell_type": "code",
   "source": [
    "# Paramètres de la transformation MiniBatchKMeans\n",
    "kmeans_params = {\n",
    "    'n_clusters': 4,\n",
    "    'init': 'k-means++',\n",
    "    'init_size': 2048,\n",
    "    'batch_size': 4096,\n",
    "    'random_state': 20\n",
    "}"
   ],
   "id": "48ba5062ae1d795f",
   "outputs": [],
   "execution_count": 49
  },
  {
   "metadata": {
    "ExecuteTime": {
     "end_time": "2024-06-24T08:20:14.882214Z",
     "start_time": "2024-06-24T08:20:14.879963Z"
    }
   },
   "cell_type": "code",
   "source": [
    "# Prétraitement des données\n",
    "preprocessor = ColumnTransformer(transformers=[\n",
    "    ('content_tfidf_kmeans', Pipeline([\n",
    "        ('tfidf', TfidfVectorizer(**tfidf_params)),  # Transformation TfidfVectorizer pour content (permet de convertir le texte en vecteurs)\n",
    "        ('kmeans', MiniBatchKMeans(**kmeans_params)) # Transformation MiniBatchKMeans pour content (permet de regrouper les vecteurs en clusters)\n",
    "    ]), 'content'),\n",
    "    ('url_tfidf_kmeans', Pipeline([\n",
    "        ('tfidf', TfidfVectorizer(**tfidf_params)),  # Transformation TfidfVectorizer pour url (permet de convertir le texte en vecteurs)\n",
    "        ('kmeans', MiniBatchKMeans(**kmeans_params)) # Transformation MiniBatchKMeans pour url (permet de regrouper les vecteurs en clusters)\n",
    "    ]), 'url'),\n",
    "    ('categorical', OrdinalEncoder(handle_unknown='use_encoded_value', unknown_value=-1), ['geo_loc', 'tld', 'who_is', 'https']), # Transformation OrdinalEncoder pour les variables catégorielles \n",
    "    ('passthrough', 'passthrough', ['js_len', 'url_len'])\n",
    "], remainder='passthrough') # Les colonnes non mentionnées dans les transformations seront ignorées"
   ],
   "id": "81e58d3ea759c0bc",
   "outputs": [],
   "execution_count": 50
  },
  {
   "metadata": {
    "ExecuteTime": {
     "end_time": "2024-06-24T08:20:14.884350Z",
     "start_time": "2024-06-24T08:20:14.882708Z"
    }
   },
   "cell_type": "code",
   "source": [
    "pipeline = Pipeline([\n",
    "    ('preprocessor', preprocessor),\n",
    "    ('model', XGBClassifier())\n",
    "])"
   ],
   "id": "ad36f32eb40afb15",
   "outputs": [],
   "execution_count": 51
  },
  {
   "metadata": {},
   "cell_type": "markdown",
   "source": "# 6. Entraînement du modèle",
   "id": "fb5e842be3ae92b8"
  },
  {
   "metadata": {
    "ExecuteTime": {
     "end_time": "2024-06-24T08:20:14.940520Z",
     "start_time": "2024-06-24T08:20:14.884949Z"
    }
   },
   "cell_type": "code",
   "source": [
    "# Création des features et de la target\n",
    "X_train = train.drop(columns=['label'])"
   ],
   "id": "30291a7e4e1fa510",
   "outputs": [],
   "execution_count": 52
  },
  {
   "metadata": {
    "ExecuteTime": {
     "end_time": "2024-06-24T08:20:14.943279Z",
     "start_time": "2024-06-24T08:20:14.941439Z"
    }
   },
   "cell_type": "code",
   "source": [
    "# Création des features et de la target\n",
    "y_train = train['label']"
   ],
   "id": "662fa443bb27442a",
   "outputs": [],
   "execution_count": 53
  },
  {
   "metadata": {
    "ExecuteTime": {
     "end_time": "2024-06-24T08:21:22.550629Z",
     "start_time": "2024-06-24T08:20:14.944077Z"
    }
   },
   "cell_type": "code",
   "source": [
    "# Entraînement du modèle\n",
    "pipeline.fit(X_train, y_train)"
   ],
   "id": "39768772c1d87769",
   "outputs": [
    {
     "data": {
      "text/plain": [
       "Pipeline(steps=[('preprocessor',\n",
       "                 ColumnTransformer(remainder='passthrough',\n",
       "                                   transformers=[('content_tfidf_kmeans',\n",
       "                                                  Pipeline(steps=[('tfidf',\n",
       "                                                                   TfidfVectorizer(max_df=0.95,\n",
       "                                                                                   max_features=100000,\n",
       "                                                                                   min_df=5,\n",
       "                                                                                   ngram_range=(1,\n",
       "                                                                                                2),\n",
       "                                                                                   stop_words='english')),\n",
       "                                                                  ('kmeans',\n",
       "                                                                   MiniBatchKMeans(batch_size=4096,\n",
       "                                                                                   init_size=2048,\n",
       "                                                                                   n_clusters=4,\n",
       "                                                                                   random_state=20))]),\n",
       "                                                  'content'),\n",
       "                                                 ('url_tfidf_km...\n",
       "                               feature_types=None, gamma=None, grow_policy=None,\n",
       "                               importance_type=None,\n",
       "                               interaction_constraints=None, learning_rate=None,\n",
       "                               max_bin=None, max_cat_threshold=None,\n",
       "                               max_cat_to_onehot=None, max_delta_step=None,\n",
       "                               max_depth=None, max_leaves=None,\n",
       "                               min_child_weight=None, missing=nan,\n",
       "                               monotone_constraints=None, multi_strategy=None,\n",
       "                               n_estimators=None, n_jobs=None,\n",
       "                               num_parallel_tree=None, random_state=None, ...))])"
      ],
      "text/html": [
       "<style>#sk-container-id-1 {\n",
       "  /* Definition of color scheme common for light and dark mode */\n",
       "  --sklearn-color-text: black;\n",
       "  --sklearn-color-line: gray;\n",
       "  /* Definition of color scheme for unfitted estimators */\n",
       "  --sklearn-color-unfitted-level-0: #fff5e6;\n",
       "  --sklearn-color-unfitted-level-1: #f6e4d2;\n",
       "  --sklearn-color-unfitted-level-2: #ffe0b3;\n",
       "  --sklearn-color-unfitted-level-3: chocolate;\n",
       "  /* Definition of color scheme for fitted estimators */\n",
       "  --sklearn-color-fitted-level-0: #f0f8ff;\n",
       "  --sklearn-color-fitted-level-1: #d4ebff;\n",
       "  --sklearn-color-fitted-level-2: #b3dbfd;\n",
       "  --sklearn-color-fitted-level-3: cornflowerblue;\n",
       "\n",
       "  /* Specific color for light theme */\n",
       "  --sklearn-color-text-on-default-background: var(--sg-text-color, var(--theme-code-foreground, var(--jp-content-font-color1, black)));\n",
       "  --sklearn-color-background: var(--sg-background-color, var(--theme-background, var(--jp-layout-color0, white)));\n",
       "  --sklearn-color-border-box: var(--sg-text-color, var(--theme-code-foreground, var(--jp-content-font-color1, black)));\n",
       "  --sklearn-color-icon: #696969;\n",
       "\n",
       "  @media (prefers-color-scheme: dark) {\n",
       "    /* Redefinition of color scheme for dark theme */\n",
       "    --sklearn-color-text-on-default-background: var(--sg-text-color, var(--theme-code-foreground, var(--jp-content-font-color1, white)));\n",
       "    --sklearn-color-background: var(--sg-background-color, var(--theme-background, var(--jp-layout-color0, #111)));\n",
       "    --sklearn-color-border-box: var(--sg-text-color, var(--theme-code-foreground, var(--jp-content-font-color1, white)));\n",
       "    --sklearn-color-icon: #878787;\n",
       "  }\n",
       "}\n",
       "\n",
       "#sk-container-id-1 {\n",
       "  color: var(--sklearn-color-text);\n",
       "}\n",
       "\n",
       "#sk-container-id-1 pre {\n",
       "  padding: 0;\n",
       "}\n",
       "\n",
       "#sk-container-id-1 input.sk-hidden--visually {\n",
       "  border: 0;\n",
       "  clip: rect(1px 1px 1px 1px);\n",
       "  clip: rect(1px, 1px, 1px, 1px);\n",
       "  height: 1px;\n",
       "  margin: -1px;\n",
       "  overflow: hidden;\n",
       "  padding: 0;\n",
       "  position: absolute;\n",
       "  width: 1px;\n",
       "}\n",
       "\n",
       "#sk-container-id-1 div.sk-dashed-wrapped {\n",
       "  border: 1px dashed var(--sklearn-color-line);\n",
       "  margin: 0 0.4em 0.5em 0.4em;\n",
       "  box-sizing: border-box;\n",
       "  padding-bottom: 0.4em;\n",
       "  background-color: var(--sklearn-color-background);\n",
       "}\n",
       "\n",
       "#sk-container-id-1 div.sk-container {\n",
       "  /* jupyter's `normalize.less` sets `[hidden] { display: none; }`\n",
       "     but bootstrap.min.css set `[hidden] { display: none !important; }`\n",
       "     so we also need the `!important` here to be able to override the\n",
       "     default hidden behavior on the sphinx rendered scikit-learn.org.\n",
       "     See: https://github.com/scikit-learn/scikit-learn/issues/21755 */\n",
       "  display: inline-block !important;\n",
       "  position: relative;\n",
       "}\n",
       "\n",
       "#sk-container-id-1 div.sk-text-repr-fallback {\n",
       "  display: none;\n",
       "}\n",
       "\n",
       "div.sk-parallel-item,\n",
       "div.sk-serial,\n",
       "div.sk-item {\n",
       "  /* draw centered vertical line to link estimators */\n",
       "  background-image: linear-gradient(var(--sklearn-color-text-on-default-background), var(--sklearn-color-text-on-default-background));\n",
       "  background-size: 2px 100%;\n",
       "  background-repeat: no-repeat;\n",
       "  background-position: center center;\n",
       "}\n",
       "\n",
       "/* Parallel-specific style estimator block */\n",
       "\n",
       "#sk-container-id-1 div.sk-parallel-item::after {\n",
       "  content: \"\";\n",
       "  width: 100%;\n",
       "  border-bottom: 2px solid var(--sklearn-color-text-on-default-background);\n",
       "  flex-grow: 1;\n",
       "}\n",
       "\n",
       "#sk-container-id-1 div.sk-parallel {\n",
       "  display: flex;\n",
       "  align-items: stretch;\n",
       "  justify-content: center;\n",
       "  background-color: var(--sklearn-color-background);\n",
       "  position: relative;\n",
       "}\n",
       "\n",
       "#sk-container-id-1 div.sk-parallel-item {\n",
       "  display: flex;\n",
       "  flex-direction: column;\n",
       "}\n",
       "\n",
       "#sk-container-id-1 div.sk-parallel-item:first-child::after {\n",
       "  align-self: flex-end;\n",
       "  width: 50%;\n",
       "}\n",
       "\n",
       "#sk-container-id-1 div.sk-parallel-item:last-child::after {\n",
       "  align-self: flex-start;\n",
       "  width: 50%;\n",
       "}\n",
       "\n",
       "#sk-container-id-1 div.sk-parallel-item:only-child::after {\n",
       "  width: 0;\n",
       "}\n",
       "\n",
       "/* Serial-specific style estimator block */\n",
       "\n",
       "#sk-container-id-1 div.sk-serial {\n",
       "  display: flex;\n",
       "  flex-direction: column;\n",
       "  align-items: center;\n",
       "  background-color: var(--sklearn-color-background);\n",
       "  padding-right: 1em;\n",
       "  padding-left: 1em;\n",
       "}\n",
       "\n",
       "\n",
       "/* Toggleable style: style used for estimator/Pipeline/ColumnTransformer box that is\n",
       "clickable and can be expanded/collapsed.\n",
       "- Pipeline and ColumnTransformer use this feature and define the default style\n",
       "- Estimators will overwrite some part of the style using the `sk-estimator` class\n",
       "*/\n",
       "\n",
       "/* Pipeline and ColumnTransformer style (default) */\n",
       "\n",
       "#sk-container-id-1 div.sk-toggleable {\n",
       "  /* Default theme specific background. It is overwritten whether we have a\n",
       "  specific estimator or a Pipeline/ColumnTransformer */\n",
       "  background-color: var(--sklearn-color-background);\n",
       "}\n",
       "\n",
       "/* Toggleable label */\n",
       "#sk-container-id-1 label.sk-toggleable__label {\n",
       "  cursor: pointer;\n",
       "  display: block;\n",
       "  width: 100%;\n",
       "  margin-bottom: 0;\n",
       "  padding: 0.5em;\n",
       "  box-sizing: border-box;\n",
       "  text-align: center;\n",
       "}\n",
       "\n",
       "#sk-container-id-1 label.sk-toggleable__label-arrow:before {\n",
       "  /* Arrow on the left of the label */\n",
       "  content: \"▸\";\n",
       "  float: left;\n",
       "  margin-right: 0.25em;\n",
       "  color: var(--sklearn-color-icon);\n",
       "}\n",
       "\n",
       "#sk-container-id-1 label.sk-toggleable__label-arrow:hover:before {\n",
       "  color: var(--sklearn-color-text);\n",
       "}\n",
       "\n",
       "/* Toggleable content - dropdown */\n",
       "\n",
       "#sk-container-id-1 div.sk-toggleable__content {\n",
       "  max-height: 0;\n",
       "  max-width: 0;\n",
       "  overflow: hidden;\n",
       "  text-align: left;\n",
       "  /* unfitted */\n",
       "  background-color: var(--sklearn-color-unfitted-level-0);\n",
       "}\n",
       "\n",
       "#sk-container-id-1 div.sk-toggleable__content.fitted {\n",
       "  /* fitted */\n",
       "  background-color: var(--sklearn-color-fitted-level-0);\n",
       "}\n",
       "\n",
       "#sk-container-id-1 div.sk-toggleable__content pre {\n",
       "  margin: 0.2em;\n",
       "  border-radius: 0.25em;\n",
       "  color: var(--sklearn-color-text);\n",
       "  /* unfitted */\n",
       "  background-color: var(--sklearn-color-unfitted-level-0);\n",
       "}\n",
       "\n",
       "#sk-container-id-1 div.sk-toggleable__content.fitted pre {\n",
       "  /* unfitted */\n",
       "  background-color: var(--sklearn-color-fitted-level-0);\n",
       "}\n",
       "\n",
       "#sk-container-id-1 input.sk-toggleable__control:checked~div.sk-toggleable__content {\n",
       "  /* Expand drop-down */\n",
       "  max-height: 200px;\n",
       "  max-width: 100%;\n",
       "  overflow: auto;\n",
       "}\n",
       "\n",
       "#sk-container-id-1 input.sk-toggleable__control:checked~label.sk-toggleable__label-arrow:before {\n",
       "  content: \"▾\";\n",
       "}\n",
       "\n",
       "/* Pipeline/ColumnTransformer-specific style */\n",
       "\n",
       "#sk-container-id-1 div.sk-label input.sk-toggleable__control:checked~label.sk-toggleable__label {\n",
       "  color: var(--sklearn-color-text);\n",
       "  background-color: var(--sklearn-color-unfitted-level-2);\n",
       "}\n",
       "\n",
       "#sk-container-id-1 div.sk-label.fitted input.sk-toggleable__control:checked~label.sk-toggleable__label {\n",
       "  background-color: var(--sklearn-color-fitted-level-2);\n",
       "}\n",
       "\n",
       "/* Estimator-specific style */\n",
       "\n",
       "/* Colorize estimator box */\n",
       "#sk-container-id-1 div.sk-estimator input.sk-toggleable__control:checked~label.sk-toggleable__label {\n",
       "  /* unfitted */\n",
       "  background-color: var(--sklearn-color-unfitted-level-2);\n",
       "}\n",
       "\n",
       "#sk-container-id-1 div.sk-estimator.fitted input.sk-toggleable__control:checked~label.sk-toggleable__label {\n",
       "  /* fitted */\n",
       "  background-color: var(--sklearn-color-fitted-level-2);\n",
       "}\n",
       "\n",
       "#sk-container-id-1 div.sk-label label.sk-toggleable__label,\n",
       "#sk-container-id-1 div.sk-label label {\n",
       "  /* The background is the default theme color */\n",
       "  color: var(--sklearn-color-text-on-default-background);\n",
       "}\n",
       "\n",
       "/* On hover, darken the color of the background */\n",
       "#sk-container-id-1 div.sk-label:hover label.sk-toggleable__label {\n",
       "  color: var(--sklearn-color-text);\n",
       "  background-color: var(--sklearn-color-unfitted-level-2);\n",
       "}\n",
       "\n",
       "/* Label box, darken color on hover, fitted */\n",
       "#sk-container-id-1 div.sk-label.fitted:hover label.sk-toggleable__label.fitted {\n",
       "  color: var(--sklearn-color-text);\n",
       "  background-color: var(--sklearn-color-fitted-level-2);\n",
       "}\n",
       "\n",
       "/* Estimator label */\n",
       "\n",
       "#sk-container-id-1 div.sk-label label {\n",
       "  font-family: monospace;\n",
       "  font-weight: bold;\n",
       "  display: inline-block;\n",
       "  line-height: 1.2em;\n",
       "}\n",
       "\n",
       "#sk-container-id-1 div.sk-label-container {\n",
       "  text-align: center;\n",
       "}\n",
       "\n",
       "/* Estimator-specific */\n",
       "#sk-container-id-1 div.sk-estimator {\n",
       "  font-family: monospace;\n",
       "  border: 1px dotted var(--sklearn-color-border-box);\n",
       "  border-radius: 0.25em;\n",
       "  box-sizing: border-box;\n",
       "  margin-bottom: 0.5em;\n",
       "  /* unfitted */\n",
       "  background-color: var(--sklearn-color-unfitted-level-0);\n",
       "}\n",
       "\n",
       "#sk-container-id-1 div.sk-estimator.fitted {\n",
       "  /* fitted */\n",
       "  background-color: var(--sklearn-color-fitted-level-0);\n",
       "}\n",
       "\n",
       "/* on hover */\n",
       "#sk-container-id-1 div.sk-estimator:hover {\n",
       "  /* unfitted */\n",
       "  background-color: var(--sklearn-color-unfitted-level-2);\n",
       "}\n",
       "\n",
       "#sk-container-id-1 div.sk-estimator.fitted:hover {\n",
       "  /* fitted */\n",
       "  background-color: var(--sklearn-color-fitted-level-2);\n",
       "}\n",
       "\n",
       "/* Specification for estimator info (e.g. \"i\" and \"?\") */\n",
       "\n",
       "/* Common style for \"i\" and \"?\" */\n",
       "\n",
       ".sk-estimator-doc-link,\n",
       "a:link.sk-estimator-doc-link,\n",
       "a:visited.sk-estimator-doc-link {\n",
       "  float: right;\n",
       "  font-size: smaller;\n",
       "  line-height: 1em;\n",
       "  font-family: monospace;\n",
       "  background-color: var(--sklearn-color-background);\n",
       "  border-radius: 1em;\n",
       "  height: 1em;\n",
       "  width: 1em;\n",
       "  text-decoration: none !important;\n",
       "  margin-left: 1ex;\n",
       "  /* unfitted */\n",
       "  border: var(--sklearn-color-unfitted-level-1) 1pt solid;\n",
       "  color: var(--sklearn-color-unfitted-level-1);\n",
       "}\n",
       "\n",
       ".sk-estimator-doc-link.fitted,\n",
       "a:link.sk-estimator-doc-link.fitted,\n",
       "a:visited.sk-estimator-doc-link.fitted {\n",
       "  /* fitted */\n",
       "  border: var(--sklearn-color-fitted-level-1) 1pt solid;\n",
       "  color: var(--sklearn-color-fitted-level-1);\n",
       "}\n",
       "\n",
       "/* On hover */\n",
       "div.sk-estimator:hover .sk-estimator-doc-link:hover,\n",
       ".sk-estimator-doc-link:hover,\n",
       "div.sk-label-container:hover .sk-estimator-doc-link:hover,\n",
       ".sk-estimator-doc-link:hover {\n",
       "  /* unfitted */\n",
       "  background-color: var(--sklearn-color-unfitted-level-3);\n",
       "  color: var(--sklearn-color-background);\n",
       "  text-decoration: none;\n",
       "}\n",
       "\n",
       "div.sk-estimator.fitted:hover .sk-estimator-doc-link.fitted:hover,\n",
       ".sk-estimator-doc-link.fitted:hover,\n",
       "div.sk-label-container:hover .sk-estimator-doc-link.fitted:hover,\n",
       ".sk-estimator-doc-link.fitted:hover {\n",
       "  /* fitted */\n",
       "  background-color: var(--sklearn-color-fitted-level-3);\n",
       "  color: var(--sklearn-color-background);\n",
       "  text-decoration: none;\n",
       "}\n",
       "\n",
       "/* Span, style for the box shown on hovering the info icon */\n",
       ".sk-estimator-doc-link span {\n",
       "  display: none;\n",
       "  z-index: 9999;\n",
       "  position: relative;\n",
       "  font-weight: normal;\n",
       "  right: .2ex;\n",
       "  padding: .5ex;\n",
       "  margin: .5ex;\n",
       "  width: min-content;\n",
       "  min-width: 20ex;\n",
       "  max-width: 50ex;\n",
       "  color: var(--sklearn-color-text);\n",
       "  box-shadow: 2pt 2pt 4pt #999;\n",
       "  /* unfitted */\n",
       "  background: var(--sklearn-color-unfitted-level-0);\n",
       "  border: .5pt solid var(--sklearn-color-unfitted-level-3);\n",
       "}\n",
       "\n",
       ".sk-estimator-doc-link.fitted span {\n",
       "  /* fitted */\n",
       "  background: var(--sklearn-color-fitted-level-0);\n",
       "  border: var(--sklearn-color-fitted-level-3);\n",
       "}\n",
       "\n",
       ".sk-estimator-doc-link:hover span {\n",
       "  display: block;\n",
       "}\n",
       "\n",
       "/* \"?\"-specific style due to the `<a>` HTML tag */\n",
       "\n",
       "#sk-container-id-1 a.estimator_doc_link {\n",
       "  float: right;\n",
       "  font-size: 1rem;\n",
       "  line-height: 1em;\n",
       "  font-family: monospace;\n",
       "  background-color: var(--sklearn-color-background);\n",
       "  border-radius: 1rem;\n",
       "  height: 1rem;\n",
       "  width: 1rem;\n",
       "  text-decoration: none;\n",
       "  /* unfitted */\n",
       "  color: var(--sklearn-color-unfitted-level-1);\n",
       "  border: var(--sklearn-color-unfitted-level-1) 1pt solid;\n",
       "}\n",
       "\n",
       "#sk-container-id-1 a.estimator_doc_link.fitted {\n",
       "  /* fitted */\n",
       "  border: var(--sklearn-color-fitted-level-1) 1pt solid;\n",
       "  color: var(--sklearn-color-fitted-level-1);\n",
       "}\n",
       "\n",
       "/* On hover */\n",
       "#sk-container-id-1 a.estimator_doc_link:hover {\n",
       "  /* unfitted */\n",
       "  background-color: var(--sklearn-color-unfitted-level-3);\n",
       "  color: var(--sklearn-color-background);\n",
       "  text-decoration: none;\n",
       "}\n",
       "\n",
       "#sk-container-id-1 a.estimator_doc_link.fitted:hover {\n",
       "  /* fitted */\n",
       "  background-color: var(--sklearn-color-fitted-level-3);\n",
       "}\n",
       "</style><div id=\"sk-container-id-1\" class=\"sk-top-container\"><div class=\"sk-text-repr-fallback\"><pre>Pipeline(steps=[(&#x27;preprocessor&#x27;,\n",
       "                 ColumnTransformer(remainder=&#x27;passthrough&#x27;,\n",
       "                                   transformers=[(&#x27;content_tfidf_kmeans&#x27;,\n",
       "                                                  Pipeline(steps=[(&#x27;tfidf&#x27;,\n",
       "                                                                   TfidfVectorizer(max_df=0.95,\n",
       "                                                                                   max_features=100000,\n",
       "                                                                                   min_df=5,\n",
       "                                                                                   ngram_range=(1,\n",
       "                                                                                                2),\n",
       "                                                                                   stop_words=&#x27;english&#x27;)),\n",
       "                                                                  (&#x27;kmeans&#x27;,\n",
       "                                                                   MiniBatchKMeans(batch_size=4096,\n",
       "                                                                                   init_size=2048,\n",
       "                                                                                   n_clusters=4,\n",
       "                                                                                   random_state=20))]),\n",
       "                                                  &#x27;content&#x27;),\n",
       "                                                 (&#x27;url_tfidf_km...\n",
       "                               feature_types=None, gamma=None, grow_policy=None,\n",
       "                               importance_type=None,\n",
       "                               interaction_constraints=None, learning_rate=None,\n",
       "                               max_bin=None, max_cat_threshold=None,\n",
       "                               max_cat_to_onehot=None, max_delta_step=None,\n",
       "                               max_depth=None, max_leaves=None,\n",
       "                               min_child_weight=None, missing=nan,\n",
       "                               monotone_constraints=None, multi_strategy=None,\n",
       "                               n_estimators=None, n_jobs=None,\n",
       "                               num_parallel_tree=None, random_state=None, ...))])</pre><b>In a Jupyter environment, please rerun this cell to show the HTML representation or trust the notebook. <br />On GitHub, the HTML representation is unable to render, please try loading this page with nbviewer.org.</b></div><div class=\"sk-container\" hidden><div class=\"sk-item sk-dashed-wrapped\"><div class=\"sk-label-container\"><div class=\"sk-label fitted sk-toggleable\"><input class=\"sk-toggleable__control sk-hidden--visually\" id=\"sk-estimator-id-1\" type=\"checkbox\" ><label for=\"sk-estimator-id-1\" class=\"sk-toggleable__label fitted sk-toggleable__label-arrow fitted\">&nbsp;&nbsp;Pipeline<a class=\"sk-estimator-doc-link fitted\" rel=\"noreferrer\" target=\"_blank\" href=\"https://scikit-learn.org/1.5/modules/generated/sklearn.pipeline.Pipeline.html\">?<span>Documentation for Pipeline</span></a><span class=\"sk-estimator-doc-link fitted\">i<span>Fitted</span></span></label><div class=\"sk-toggleable__content fitted\"><pre>Pipeline(steps=[(&#x27;preprocessor&#x27;,\n",
       "                 ColumnTransformer(remainder=&#x27;passthrough&#x27;,\n",
       "                                   transformers=[(&#x27;content_tfidf_kmeans&#x27;,\n",
       "                                                  Pipeline(steps=[(&#x27;tfidf&#x27;,\n",
       "                                                                   TfidfVectorizer(max_df=0.95,\n",
       "                                                                                   max_features=100000,\n",
       "                                                                                   min_df=5,\n",
       "                                                                                   ngram_range=(1,\n",
       "                                                                                                2),\n",
       "                                                                                   stop_words=&#x27;english&#x27;)),\n",
       "                                                                  (&#x27;kmeans&#x27;,\n",
       "                                                                   MiniBatchKMeans(batch_size=4096,\n",
       "                                                                                   init_size=2048,\n",
       "                                                                                   n_clusters=4,\n",
       "                                                                                   random_state=20))]),\n",
       "                                                  &#x27;content&#x27;),\n",
       "                                                 (&#x27;url_tfidf_km...\n",
       "                               feature_types=None, gamma=None, grow_policy=None,\n",
       "                               importance_type=None,\n",
       "                               interaction_constraints=None, learning_rate=None,\n",
       "                               max_bin=None, max_cat_threshold=None,\n",
       "                               max_cat_to_onehot=None, max_delta_step=None,\n",
       "                               max_depth=None, max_leaves=None,\n",
       "                               min_child_weight=None, missing=nan,\n",
       "                               monotone_constraints=None, multi_strategy=None,\n",
       "                               n_estimators=None, n_jobs=None,\n",
       "                               num_parallel_tree=None, random_state=None, ...))])</pre></div> </div></div><div class=\"sk-serial\"><div class=\"sk-item sk-dashed-wrapped\"><div class=\"sk-label-container\"><div class=\"sk-label fitted sk-toggleable\"><input class=\"sk-toggleable__control sk-hidden--visually\" id=\"sk-estimator-id-2\" type=\"checkbox\" ><label for=\"sk-estimator-id-2\" class=\"sk-toggleable__label fitted sk-toggleable__label-arrow fitted\">&nbsp;preprocessor: ColumnTransformer<a class=\"sk-estimator-doc-link fitted\" rel=\"noreferrer\" target=\"_blank\" href=\"https://scikit-learn.org/1.5/modules/generated/sklearn.compose.ColumnTransformer.html\">?<span>Documentation for preprocessor: ColumnTransformer</span></a></label><div class=\"sk-toggleable__content fitted\"><pre>ColumnTransformer(remainder=&#x27;passthrough&#x27;,\n",
       "                  transformers=[(&#x27;content_tfidf_kmeans&#x27;,\n",
       "                                 Pipeline(steps=[(&#x27;tfidf&#x27;,\n",
       "                                                  TfidfVectorizer(max_df=0.95,\n",
       "                                                                  max_features=100000,\n",
       "                                                                  min_df=5,\n",
       "                                                                  ngram_range=(1,\n",
       "                                                                               2),\n",
       "                                                                  stop_words=&#x27;english&#x27;)),\n",
       "                                                 (&#x27;kmeans&#x27;,\n",
       "                                                  MiniBatchKMeans(batch_size=4096,\n",
       "                                                                  init_size=2048,\n",
       "                                                                  n_clusters=4,\n",
       "                                                                  random_state=20))]),\n",
       "                                 &#x27;content&#x27;),\n",
       "                                (&#x27;url_tfidf_kmeans&#x27;,\n",
       "                                 Pipeline(steps=[(&#x27;tfidf&#x27;,\n",
       "                                                  T...max_df=0.95,\n",
       "                                                                  max_features=100000,\n",
       "                                                                  min_df=5,\n",
       "                                                                  ngram_range=(1,\n",
       "                                                                               2),\n",
       "                                                                  stop_words=&#x27;english&#x27;)),\n",
       "                                                 (&#x27;kmeans&#x27;,\n",
       "                                                  MiniBatchKMeans(batch_size=4096,\n",
       "                                                                  init_size=2048,\n",
       "                                                                  n_clusters=4,\n",
       "                                                                  random_state=20))]),\n",
       "                                 &#x27;url&#x27;),\n",
       "                                (&#x27;categorical&#x27;,\n",
       "                                 OrdinalEncoder(handle_unknown=&#x27;use_encoded_value&#x27;,\n",
       "                                                unknown_value=-1),\n",
       "                                 [&#x27;geo_loc&#x27;, &#x27;tld&#x27;, &#x27;who_is&#x27;, &#x27;https&#x27;]),\n",
       "                                (&#x27;passthrough&#x27;, &#x27;passthrough&#x27;,\n",
       "                                 [&#x27;js_len&#x27;, &#x27;url_len&#x27;])])</pre></div> </div></div><div class=\"sk-parallel\"><div class=\"sk-parallel-item\"><div class=\"sk-item\"><div class=\"sk-label-container\"><div class=\"sk-label fitted sk-toggleable\"><input class=\"sk-toggleable__control sk-hidden--visually\" id=\"sk-estimator-id-3\" type=\"checkbox\" ><label for=\"sk-estimator-id-3\" class=\"sk-toggleable__label fitted sk-toggleable__label-arrow fitted\">content_tfidf_kmeans</label><div class=\"sk-toggleable__content fitted\"><pre>content</pre></div> </div></div><div class=\"sk-serial\"><div class=\"sk-item\"><div class=\"sk-serial\"><div class=\"sk-item\"><div class=\"sk-estimator fitted sk-toggleable\"><input class=\"sk-toggleable__control sk-hidden--visually\" id=\"sk-estimator-id-4\" type=\"checkbox\" ><label for=\"sk-estimator-id-4\" class=\"sk-toggleable__label fitted sk-toggleable__label-arrow fitted\">&nbsp;TfidfVectorizer<a class=\"sk-estimator-doc-link fitted\" rel=\"noreferrer\" target=\"_blank\" href=\"https://scikit-learn.org/1.5/modules/generated/sklearn.feature_extraction.text.TfidfVectorizer.html\">?<span>Documentation for TfidfVectorizer</span></a></label><div class=\"sk-toggleable__content fitted\"><pre>TfidfVectorizer(max_df=0.95, max_features=100000, min_df=5, ngram_range=(1, 2),\n",
       "                stop_words=&#x27;english&#x27;)</pre></div> </div></div><div class=\"sk-item\"><div class=\"sk-estimator fitted sk-toggleable\"><input class=\"sk-toggleable__control sk-hidden--visually\" id=\"sk-estimator-id-5\" type=\"checkbox\" ><label for=\"sk-estimator-id-5\" class=\"sk-toggleable__label fitted sk-toggleable__label-arrow fitted\">&nbsp;MiniBatchKMeans<a class=\"sk-estimator-doc-link fitted\" rel=\"noreferrer\" target=\"_blank\" href=\"https://scikit-learn.org/1.5/modules/generated/sklearn.cluster.MiniBatchKMeans.html\">?<span>Documentation for MiniBatchKMeans</span></a></label><div class=\"sk-toggleable__content fitted\"><pre>MiniBatchKMeans(batch_size=4096, init_size=2048, n_clusters=4, random_state=20)</pre></div> </div></div></div></div></div></div></div><div class=\"sk-parallel-item\"><div class=\"sk-item\"><div class=\"sk-label-container\"><div class=\"sk-label fitted sk-toggleable\"><input class=\"sk-toggleable__control sk-hidden--visually\" id=\"sk-estimator-id-6\" type=\"checkbox\" ><label for=\"sk-estimator-id-6\" class=\"sk-toggleable__label fitted sk-toggleable__label-arrow fitted\">url_tfidf_kmeans</label><div class=\"sk-toggleable__content fitted\"><pre>url</pre></div> </div></div><div class=\"sk-serial\"><div class=\"sk-item\"><div class=\"sk-serial\"><div class=\"sk-item\"><div class=\"sk-estimator fitted sk-toggleable\"><input class=\"sk-toggleable__control sk-hidden--visually\" id=\"sk-estimator-id-7\" type=\"checkbox\" ><label for=\"sk-estimator-id-7\" class=\"sk-toggleable__label fitted sk-toggleable__label-arrow fitted\">&nbsp;TfidfVectorizer<a class=\"sk-estimator-doc-link fitted\" rel=\"noreferrer\" target=\"_blank\" href=\"https://scikit-learn.org/1.5/modules/generated/sklearn.feature_extraction.text.TfidfVectorizer.html\">?<span>Documentation for TfidfVectorizer</span></a></label><div class=\"sk-toggleable__content fitted\"><pre>TfidfVectorizer(max_df=0.95, max_features=100000, min_df=5, ngram_range=(1, 2),\n",
       "                stop_words=&#x27;english&#x27;)</pre></div> </div></div><div class=\"sk-item\"><div class=\"sk-estimator fitted sk-toggleable\"><input class=\"sk-toggleable__control sk-hidden--visually\" id=\"sk-estimator-id-8\" type=\"checkbox\" ><label for=\"sk-estimator-id-8\" class=\"sk-toggleable__label fitted sk-toggleable__label-arrow fitted\">&nbsp;MiniBatchKMeans<a class=\"sk-estimator-doc-link fitted\" rel=\"noreferrer\" target=\"_blank\" href=\"https://scikit-learn.org/1.5/modules/generated/sklearn.cluster.MiniBatchKMeans.html\">?<span>Documentation for MiniBatchKMeans</span></a></label><div class=\"sk-toggleable__content fitted\"><pre>MiniBatchKMeans(batch_size=4096, init_size=2048, n_clusters=4, random_state=20)</pre></div> </div></div></div></div></div></div></div><div class=\"sk-parallel-item\"><div class=\"sk-item\"><div class=\"sk-label-container\"><div class=\"sk-label fitted sk-toggleable\"><input class=\"sk-toggleable__control sk-hidden--visually\" id=\"sk-estimator-id-9\" type=\"checkbox\" ><label for=\"sk-estimator-id-9\" class=\"sk-toggleable__label fitted sk-toggleable__label-arrow fitted\">categorical</label><div class=\"sk-toggleable__content fitted\"><pre>[&#x27;geo_loc&#x27;, &#x27;tld&#x27;, &#x27;who_is&#x27;, &#x27;https&#x27;]</pre></div> </div></div><div class=\"sk-serial\"><div class=\"sk-item\"><div class=\"sk-estimator fitted sk-toggleable\"><input class=\"sk-toggleable__control sk-hidden--visually\" id=\"sk-estimator-id-10\" type=\"checkbox\" ><label for=\"sk-estimator-id-10\" class=\"sk-toggleable__label fitted sk-toggleable__label-arrow fitted\">&nbsp;OrdinalEncoder<a class=\"sk-estimator-doc-link fitted\" rel=\"noreferrer\" target=\"_blank\" href=\"https://scikit-learn.org/1.5/modules/generated/sklearn.preprocessing.OrdinalEncoder.html\">?<span>Documentation for OrdinalEncoder</span></a></label><div class=\"sk-toggleable__content fitted\"><pre>OrdinalEncoder(handle_unknown=&#x27;use_encoded_value&#x27;, unknown_value=-1)</pre></div> </div></div></div></div></div><div class=\"sk-parallel-item\"><div class=\"sk-item\"><div class=\"sk-label-container\"><div class=\"sk-label fitted sk-toggleable\"><input class=\"sk-toggleable__control sk-hidden--visually\" id=\"sk-estimator-id-11\" type=\"checkbox\" ><label for=\"sk-estimator-id-11\" class=\"sk-toggleable__label fitted sk-toggleable__label-arrow fitted\">passthrough</label><div class=\"sk-toggleable__content fitted\"><pre>[&#x27;js_len&#x27;, &#x27;url_len&#x27;]</pre></div> </div></div><div class=\"sk-serial\"><div class=\"sk-item\"><div class=\"sk-estimator fitted sk-toggleable\"><input class=\"sk-toggleable__control sk-hidden--visually\" id=\"sk-estimator-id-12\" type=\"checkbox\" ><label for=\"sk-estimator-id-12\" class=\"sk-toggleable__label fitted sk-toggleable__label-arrow fitted\">passthrough</label><div class=\"sk-toggleable__content fitted\"><pre>passthrough</pre></div> </div></div></div></div></div><div class=\"sk-parallel-item\"><div class=\"sk-item\"><div class=\"sk-label-container\"><div class=\"sk-label fitted sk-toggleable\"><input class=\"sk-toggleable__control sk-hidden--visually\" id=\"sk-estimator-id-13\" type=\"checkbox\" ><label for=\"sk-estimator-id-13\" class=\"sk-toggleable__label fitted sk-toggleable__label-arrow fitted\">remainder</label><div class=\"sk-toggleable__content fitted\"><pre>[]</pre></div> </div></div><div class=\"sk-serial\"><div class=\"sk-item\"><div class=\"sk-estimator fitted sk-toggleable\"><input class=\"sk-toggleable__control sk-hidden--visually\" id=\"sk-estimator-id-14\" type=\"checkbox\" ><label for=\"sk-estimator-id-14\" class=\"sk-toggleable__label fitted sk-toggleable__label-arrow fitted\">passthrough</label><div class=\"sk-toggleable__content fitted\"><pre>passthrough</pre></div> </div></div></div></div></div></div></div><div class=\"sk-item\"><div class=\"sk-estimator fitted sk-toggleable\"><input class=\"sk-toggleable__control sk-hidden--visually\" id=\"sk-estimator-id-15\" type=\"checkbox\" ><label for=\"sk-estimator-id-15\" class=\"sk-toggleable__label fitted sk-toggleable__label-arrow fitted\">XGBClassifier</label><div class=\"sk-toggleable__content fitted\"><pre>XGBClassifier(base_score=None, booster=None, callbacks=None,\n",
       "              colsample_bylevel=None, colsample_bynode=None,\n",
       "              colsample_bytree=None, device=None, early_stopping_rounds=None,\n",
       "              enable_categorical=False, eval_metric=None, feature_types=None,\n",
       "              gamma=None, grow_policy=None, importance_type=None,\n",
       "              interaction_constraints=None, learning_rate=None, max_bin=None,\n",
       "              max_cat_threshold=None, max_cat_to_onehot=None,\n",
       "              max_delta_step=None, max_depth=None, max_leaves=None,\n",
       "              min_child_weight=None, missing=nan, monotone_constraints=None,\n",
       "              multi_strategy=None, n_estimators=None, n_jobs=None,\n",
       "              num_parallel_tree=None, random_state=None, ...)</pre></div> </div></div></div></div></div></div>"
      ]
     },
     "execution_count": 54,
     "metadata": {},
     "output_type": "execute_result"
    }
   ],
   "execution_count": 54
  },
  {
   "metadata": {},
   "cell_type": "markdown",
   "source": "# 7. Évaluation du modèle",
   "id": "b7e3f7cf9272a83b"
  },
  {
   "metadata": {
    "ExecuteTime": {
     "end_time": "2024-06-24T08:21:35.265340Z",
     "start_time": "2024-06-24T08:21:22.551645Z"
    }
   },
   "cell_type": "code",
   "source": [
    "# Prédictions\n",
    "y_pred = pipeline.predict(test.drop(columns=['label']))"
   ],
   "id": "1a2db70287550495",
   "outputs": [],
   "execution_count": 55
  },
  {
   "metadata": {
    "ExecuteTime": {
     "end_time": "2024-06-24T08:21:35.280503Z",
     "start_time": "2024-06-24T08:21:35.266146Z"
    }
   },
   "cell_type": "code",
   "source": [
    "# Score\n",
    "accuracy = accuracy_score(test['label'], y_pred)"
   ],
   "id": "a87fb98f228f6037",
   "outputs": [],
   "execution_count": 56
  },
  {
   "metadata": {
    "ExecuteTime": {
     "end_time": "2024-06-24T08:21:35.306385Z",
     "start_time": "2024-06-24T08:21:35.281530Z"
    }
   },
   "cell_type": "code",
   "source": [
    "# Matrice de confusion\n",
    "confusion = confusion_matrix(test['label'], y_pred)"
   ],
   "id": "6aa532e598459eae",
   "outputs": [],
   "execution_count": 57
  },
  {
   "metadata": {
    "ExecuteTime": {
     "end_time": "2024-06-24T08:21:35.547413Z",
     "start_time": "2024-06-24T08:21:35.307166Z"
    }
   },
   "cell_type": "code",
   "source": [
    "# Rapport de classification\n",
    "report = classification_report(test['label'], y_pred)"
   ],
   "id": "3a52e0c80d56a58e",
   "outputs": [],
   "execution_count": 58
  },
  {
   "metadata": {
    "ExecuteTime": {
     "end_time": "2024-06-24T08:21:35.550580Z",
     "start_time": "2024-06-24T08:21:35.548357Z"
    }
   },
   "cell_type": "code",
   "source": "print(f\"Score: {accuracy}\")",
   "id": "ad9956c4699a6228",
   "outputs": [
    {
     "name": "stdout",
     "output_type": "stream",
     "text": [
      "Score: 0.9995026717578342\n"
     ]
    }
   ],
   "execution_count": 59
  },
  {
   "metadata": {
    "ExecuteTime": {
     "end_time": "2024-06-24T08:21:35.552968Z",
     "start_time": "2024-06-24T08:21:35.551312Z"
    }
   },
   "cell_type": "code",
   "source": "print(f\"Matrice de confusion:\\n{confusion}\")",
   "id": "d9eece38fa74e9dc",
   "outputs": [
    {
     "name": "stdout",
     "output_type": "stream",
     "text": [
      "Matrice de confusion:\n",
      "[[353798     74]\n",
      " [   106   7956]]\n"
     ]
    }
   ],
   "execution_count": 60
  },
  {
   "metadata": {
    "ExecuteTime": {
     "end_time": "2024-06-24T08:21:35.555051Z",
     "start_time": "2024-06-24T08:21:35.553556Z"
    }
   },
   "cell_type": "code",
   "source": "print(f\"Rapport de classification:\\n{report}\")",
   "id": "15c0cb3a6cddd201",
   "outputs": [
    {
     "name": "stdout",
     "output_type": "stream",
     "text": [
      "Rapport de classification:\n",
      "              precision    recall  f1-score   support\n",
      "\n",
      "           0       1.00      1.00      1.00    353872\n",
      "           1       0.99      0.99      0.99      8062\n",
      "\n",
      "    accuracy                           1.00    361934\n",
      "   macro avg       1.00      0.99      0.99    361934\n",
      "weighted avg       1.00      1.00      1.00    361934\n",
      "\n"
     ]
    }
   ],
   "execution_count": 61
  },
  {
   "metadata": {},
   "cell_type": "markdown",
   "source": "# 8. Sauvegarde du modèle",
   "id": "42ca5c59fdfa7d1d"
  },
  {
   "metadata": {
    "ExecuteTime": {
     "end_time": "2024-06-24T08:21:37.034149Z",
     "start_time": "2024-06-24T08:21:35.555691Z"
    }
   },
   "cell_type": "code",
   "source": [
    "# Sauvegarde du modèle\n",
    "dump(pipeline, '../models/model.joblib')"
   ],
   "id": "8ea8bb3361fac67a",
   "outputs": [
    {
     "data": {
      "text/plain": [
       "['../models/model.joblib']"
      ]
     },
     "execution_count": 62,
     "metadata": {},
     "output_type": "execute_result"
    }
   ],
   "execution_count": 62
  }
 ],
 "metadata": {
  "kernelspec": {
   "display_name": "Python 3",
   "language": "python",
   "name": "python3"
  },
  "language_info": {
   "codemirror_mode": {
    "name": "ipython",
    "version": 2
   },
   "file_extension": ".py",
   "mimetype": "text/x-python",
   "name": "python",
   "nbconvert_exporter": "python",
   "pygments_lexer": "ipython2",
   "version": "2.7.6"
  }
 },
 "nbformat": 4,
 "nbformat_minor": 5
}
